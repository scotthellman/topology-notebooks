{
 "cells": [
  {
   "cell_type": "code",
   "execution_count": 1,
   "id": "f4acc779",
   "metadata": {},
   "outputs": [],
   "source": [
    "import networkx as nx\n",
    "import numpy as np"
   ]
  },
  {
   "cell_type": "code",
   "execution_count": null,
   "id": "77ca0950",
   "metadata": {},
   "outputs": [],
   "source": []
  },
  {
   "cell_type": "code",
   "execution_count": 2,
   "id": "d19e37f9",
   "metadata": {},
   "outputs": [],
   "source": [
    "from itertools import product\n",
    "def build_1_skeleton_from_simplices(simplices):\n",
    "    edges = []\n",
    "    for simplex in simplices:\n",
    "        for s, t in product(simplex, simplex):\n",
    "            if s == t:\n",
    "                continue\n",
    "            edges.append((s, t))\n",
    "    return nx.Graph(edges)"
   ]
  },
  {
   "cell_type": "code",
   "execution_count": 3,
   "id": "8869cce0",
   "metadata": {},
   "outputs": [
    {
     "name": "stdout",
     "output_type": "stream",
     "text": [
      "0\n",
      "3\n"
     ]
    }
   ],
   "source": [
    "class CyclicGroupElement:\n",
    "    \n",
    "    def __init__(self, value, n):\n",
    "        self.value = value % n\n",
    "        self.n = n\n",
    "    \n",
    "    def __eq__(self, other):\n",
    "        if isinstance(other, int):\n",
    "            return self.value == other % self.n\n",
    "        elif isinstance(other, CyclicGroupElement):\n",
    "            return self.n == other.n and self.value == other.value\n",
    "        return False\n",
    "    \n",
    "    def __ne__(self, other):\n",
    "        return not self == other\n",
    "        \n",
    "    def __neg__(self):\n",
    "        return CyclicGroupElement(self.n - self.value, self.n)\n",
    "    \n",
    "    def __add__(self, other):\n",
    "        assert self.n == other.n\n",
    "        return CyclicGroupElement(self.value + other.value, self.n)\n",
    "    \n",
    "    def __sub__(self, other):\n",
    "        assert self.n == other.n\n",
    "        return CyclicGroupElement(self.value + (-other).value, self.n)\n",
    "    \n",
    "    def __mul__(self, other):\n",
    "        if isinstance(other, int):\n",
    "            return CyclicGroupElement(self.value * other, self.n)\n",
    "        assert self.n == other.n\n",
    "        return CyclicGroupElement(self.value * other.value, self.n)\n",
    "    \n",
    "    def __rmul__(self, other):\n",
    "        return self * other\n",
    "    \n",
    "    def __str__(self):\n",
    "        return f\"{self.value}\"\n",
    "    \n",
    "    def __repr__(self):\n",
    "        return f\"{self.value} in Z/{self.n}Z\"\n",
    "    \n",
    "class CyclicGroup:\n",
    "    \n",
    "    def __init__(self, n):\n",
    "        self.n = n\n",
    "        \n",
    "    def __call__(self, value):\n",
    "        return CyclicGroupElement(value, self.n)\n",
    "    \n",
    "    def __iter__(self):\n",
    "        yield from range(self.n)\n",
    "    \n",
    "z2 = CyclicGroup(2)\n",
    "print(z2(3) + z2(1))\n",
    "print(-CyclicGroup(5)(2))"
   ]
  },
  {
   "cell_type": "code",
   "execution_count": 4,
   "id": "bc659a98",
   "metadata": {},
   "outputs": [
    {
     "data": {
      "text/plain": [
       "0 in Z/2Z"
      ]
     },
     "execution_count": 4,
     "metadata": {},
     "output_type": "execute_result"
    }
   ],
   "source": [
    "4*z2(1)"
   ]
  },
  {
   "cell_type": "code",
   "execution_count": 5,
   "id": "fedbf535",
   "metadata": {},
   "outputs": [
    {
     "name": "stdout",
     "output_type": "stream",
     "text": [
      "ScaledSimplex(simplex=(1, 2, 3), scalar=1)\n",
      "+1(2, 3)+-1(1, 3)+1(1, 2)\n"
     ]
    }
   ],
   "source": [
    "from dataclasses import dataclass\n",
    "from typing import Tuple, Iterable\n",
    "\n",
    "class Chain:\n",
    "    \n",
    "    def __init__(self, scaled_simplices: Iterable):\n",
    "        self.simplices = list(scaled_simplices)\n",
    "        self.dim = self.simplices[0].dim\n",
    "        for simplex in self.simplices:\n",
    "            assert(simplex.dim == self.dim)\n",
    "        \n",
    "    def __repr__(self):\n",
    "        result = \"\"\n",
    "        for simplex in self.simplices:\n",
    "            result += f\"+{simplex.scalar}{simplex.simplex}\"\n",
    "        return result\n",
    "    \n",
    "    def __iter__(self):\n",
    "        yield from self.simplices\n",
    "\n",
    "@dataclass\n",
    "class ScaledSimplex:\n",
    "    \n",
    "    simplex: Tuple[int] \n",
    "    scalar: int = 1\n",
    "\n",
    "        \n",
    "    def boundary(self) -> Chain:\n",
    "        faces = []\n",
    "        for i in range(len(self.simplex)):\n",
    "            face_scalar = self.scalar\n",
    "            if i%2 == 1:\n",
    "                face_scalar = -face_scalar\n",
    "            \n",
    "            faces.append(ScaledSimplex(scalar=face_scalar, simplex=self.simplex[:i] + self.simplex[i+1:]))\n",
    "        return Chain(faces)\n",
    "    \n",
    "    @property\n",
    "    def dim(self):\n",
    "        return len(self.simplex) - 1\n",
    "\n",
    "z3 = CyclicGroup(3)\n",
    "simplex = ScaledSimplex(scalar=1, simplex=(1,2,3))\n",
    "print(simplex)\n",
    "print(simplex.boundary())"
   ]
  },
  {
   "cell_type": "code",
   "execution_count": 45,
   "id": "1a03169c",
   "metadata": {},
   "outputs": [],
   "source": [
    "class Cochain:\n",
    "    \n",
    "    def __init__(self, simplex_map, simplicial_complex, hom_field):\n",
    "        # simplices not present in map are presumed to be 0\n",
    "        self.dimension = len(list(simplex_map.keys())[0])-1\n",
    "        self.field = hom_field\n",
    "        self.simplex_map = simplex_map\n",
    "        for s in simplicial_complex[self.dimension]:\n",
    "            if s not in self.simplex_map:\n",
    "                self.simplex_map[s] = self.field(0)\n",
    "        self.compact_form = f\"{self.dimension}: \" + \",\".join(str(simplex_map.get(s, hom_field(0)).value) for s in simplicial_complex[self.dimension])\n",
    "        self.simplicial_complex = simplicial_complex\n",
    "        \n",
    "    def coboundary(self):\n",
    "        coboundary_map = {}\n",
    "        if self.dimension+1 == len(self.simplicial_complex):\n",
    "            return Cochain({tuple([0]*(self.dimension+1)): self.field(0)}, self.simplicial_complex, self.field)\n",
    "        for simplex in self.simplicial_complex[self.dimension+1]:\n",
    "            coboundary_map[simplex] = self.apply(ScaledSimplex(simplex).boundary())\n",
    "        return Cochain(coboundary_map, self.simplicial_complex, self.field)\n",
    "    \n",
    "    def apply(self, chain):\n",
    "        assert chain.dim == self.dimension\n",
    "        value = self.field(0)\n",
    "        for simplex in chain:\n",
    "            value += simplex.scalar * self.simplex_map.get(simplex.simplex, self.field(0))\n",
    "        return value\n",
    "        \n",
    "    def is_cocycle(self):\n",
    "        # a cocycle is a cochain that behaves as the zero map when composed with the boundary\n",
    "        if self.dimension+1 == len(self.simplicial_complex):\n",
    "            return True\n",
    "        cofaces = self.simplicial_complex[self.dimension+1]\n",
    "        for coface in cofaces:\n",
    "            coface_boundary = ScaledSimplex(coface).boundary()\n",
    "            if self.apply(coface_boundary) != 0:\n",
    "                return False\n",
    "        return True\n",
    "    \n",
    "    def __eq__(self, other):\n",
    "        if not isinstance(other, Cochain):\n",
    "            return False\n",
    "        if self.dimension != other.dimension:\n",
    "            return False\n",
    "        if self.field.n != other.field.n:\n",
    "            return False\n",
    "        for simplex in self.simplex_map:\n",
    "            if simplex not in other.simplex_map or other.simplex_map[simplex] != self.simplex_map[simplex]:\n",
    "                return False\n",
    "        for simplex in other.simplex_map:\n",
    "            if simplex not in self.simplex_map and other.simplex_map[simplex] != self.field(0):\n",
    "                return False\n",
    "        return True\n",
    "    \n",
    "    def is_homologous_to(self, other, coboundaries):\n",
    "        for scalar in range(1,self.field.n):\n",
    "            if scalar*self - other in coboundaries:\n",
    "                return True\n",
    "        return False\n",
    "            \n",
    "    def __rmul__(self, scalar):\n",
    "        new_map = {s: scalar*v for s, v in self.simplex_map.items()}\n",
    "        return Cochain(new_map, self.simplicial_complex, self.field)\n",
    "    \n",
    "        \n",
    "    def __add__(self, other):\n",
    "        all_simplices = set(self.simplex_map.keys()) | set(other.simplex_map.keys())\n",
    "        new_map = {}\n",
    "        for simplex in all_simplices:\n",
    "            our_value = self.simplex_map.get(simplex, self.field(0))\n",
    "            other_value = other.simplex_map.get(simplex, other.field(0))\n",
    "            new_map[simplex] = our_value + other_value\n",
    "        return Cochain(new_map, self.simplicial_complex, self.field)\n",
    "    \n",
    "    def __sub__(self, other):\n",
    "        return self + (-other)\n",
    "    \n",
    "    def __neg__(self):\n",
    "        new_map = {s: -e for s, e in self.simplex_map.items()}\n",
    "        return Cochain(new_map, self.simplicial_complex, self.field)\n",
    "    \n",
    "    def __hash__(self):\n",
    "        return hash(self.compact_form)\n",
    "    \n",
    "    def __repr__(self):\n",
    "        return self.compact_form\n",
    "    \n",
    "    \n",
    "\n",
    "def is_coboundary(cochain, coboundaries):\n",
    "    # a coboundary is a cochain that is itself the coboundary of a lower-dimensional cochain\n",
    "    return any(cochain == coboundary for coboundary in coboundaries)"
   ]
  },
  {
   "cell_type": "code",
   "execution_count": 46,
   "id": "f82d442f",
   "metadata": {},
   "outputs": [],
   "source": [
    "def faces(simplices):\n",
    "    faces = []\n",
    "    for s in simplices:\n",
    "        faces.extend(s[:i] + s[i+1:] for i in range(len(s)))\n",
    "    return list(set(faces))"
   ]
  },
  {
   "cell_type": "code",
   "execution_count": 47,
   "id": "e4c1bfa5",
   "metadata": {},
   "outputs": [],
   "source": [
    "from tqdm import tqdm\n",
    "def enumerate_cochains(simplices, simplicial_complex, field):\n",
    "    field_values = [field(i) for i in range(field.n)]\n",
    "    for assignments in tqdm(product(*([field_values]*len(simplices)))):\n",
    "        mapping = {s: a for s, a in zip(simplices, assignments)}\n",
    "        yield Cochain(mapping, simplicial_complex, field)"
   ]
  },
  {
   "cell_type": "code",
   "execution_count": 48,
   "id": "1dd4f244",
   "metadata": {},
   "outputs": [],
   "source": [
    "class CochainGroup:\n",
    "    \n",
    "    def __init__(self, cochains, coboundaries):\n",
    "        self.dimension = cochains[0].dimension\n",
    "        self.simplicial_complex = cochains[0].simplicial_complex\n",
    "        self.field = cochains[0].field\n",
    "        self.zero = Cochain({self.simplicial_complex[self.dimension][0]: self.field(0)}, self.simplicial_complex, self.field)\n",
    "        self.coboundaries = set(coboundaries)\n",
    "        self.coboundaries.add(self.zero)\n",
    "        self.cocycles = set(c for c in cochains if c.is_cocycle())\n",
    "        self.cochains = set(cochains)\n",
    "        self.cocycle_generators = self.find_cocycle_generators()\n",
    "        self.build_cohomology()\n",
    "        \n",
    "    def find_cocycle_generators(self):\n",
    "        # Possibly a gaussian elim approach is better?\n",
    "        # But this caches a lot of stuff\n",
    "        generators = None\n",
    "        generated = set()\n",
    "        ordered_cocycles = sorted(self.cocycles, key=lambda x: sum(v.value for v in x.simplex_map.values()))\n",
    "        for cocycle in ordered_cocycles:\n",
    "            if generators is None:\n",
    "                generators = [cocycle]\n",
    "                generated = {s*cocycle for s in self.field}\n",
    "                continue\n",
    "            \n",
    "            if cocycle in generated:\n",
    "                continue\n",
    "            \n",
    "            generators.append(cocycle)\n",
    "            new_elements = {s*cocycle for s in self.field}\n",
    "            linear_combinations = set()\n",
    "            for element in new_elements:\n",
    "                for g in generated:\n",
    "                    linear_combinations.add(element+g)\n",
    "            generated |= new_elements | linear_combinations\n",
    "\n",
    "        return generators\n",
    "    \n",
    "    def retrieve_homologous_cocycles(self, cocycle):\n",
    "        homologous = {cocycle+b for b in self.coboundaries}\n",
    "        return homologous\n",
    "        \n",
    "    def build_cohomology(self):\n",
    "        self.cohomology_groups = {self.zero: {self.zero}}\n",
    "        \n",
    "        claimed_coboundaries = set() # TODO: i don't understand why i need this\n",
    "        # what i think is happening is that linearly independent cocycles are becoming\n",
    "        # dependent after the quotient\n",
    "        # but what i don't understand is why the boundary difference check can't catch them\n",
    "        \n",
    "        for generator in self.cocycle_generators:\n",
    "            if generator in claimed_coboundaries:\n",
    "                continue\n",
    "            for representative, group in self.cohomology_groups.items():\n",
    "                if generator.is_homologous_to(representative, self.coboundaries):\n",
    "                    group.add(generator)\n",
    "                    break\n",
    "            else:\n",
    "                self.cohomology_groups[generator] = {generator}\n",
    "                new_claims = self.retrieve_homologous_cocycles(generator)\n",
    "                for claim in new_claims:\n",
    "                    claimed_coboundaries |= {claim+co for co in claimed_coboundaries}\n",
    "                claimed_coboundaries |=  new_claims\n",
    "                \n",
    "\n",
    "class CochainComplex:\n",
    "    \n",
    "    def __init__(self, simplicial_complex, field):\n",
    "        self.simplicial_complex = simplicial_complex\n",
    "        self.field = field\n",
    "        self.cochain_groups = self.build_cochains()\n",
    "        \n",
    "    def build_cochains(self):\n",
    "        cochain_groups = []\n",
    "        coboundaries = []\n",
    "        for index, simplices in enumerate(self.simplicial_complex):\n",
    "            cochains = list(enumerate_cochains(simplices, self.simplicial_complex, self.field))\n",
    "            cochain_groups.append(CochainGroup(cochains, coboundaries))\n",
    "            coboundaries = [c.coboundary() for c in cochains]\n",
    "        return cochain_groups\n",
    "        "
   ]
  },
  {
   "cell_type": "code",
   "execution_count": 49,
   "id": "1600b1c9",
   "metadata": {},
   "outputs": [],
   "source": [
    "from matplotlib.colors import ListedColormap\n",
    "import matplotlib.pyplot as plt\n",
    "\n",
    "class SimplicialComplex:\n",
    "    \n",
    "    def __init__(self, simplices, vertex_pos, hom_field):\n",
    "        for dimension in simplices:\n",
    "            for simplex in dimension:\n",
    "                for first, second in zip(simplex, simplex[1:]):\n",
    "                    if first >= second:\n",
    "                        raise Exception(\"bad simplex detected!\", simplex)\n",
    "                        \n",
    "        self.simplices = simplices\n",
    "        self.vertex_pos = vertex_pos\n",
    "        self.field = hom_field\n",
    "        self.cochain_complex = CochainComplex(simplices, hom_field)\n",
    "        self.graph = nx.Graph(simplices[1])\n",
    "        \n",
    "    def draw_cohomology_generators(self, num_examples=3):\n",
    "        num_rows = len(self.cochain_complex.cochain_groups[1].cohomology_groups)\n",
    "        fig, axs = plt.subplots(num_rows, num_examples+1)\n",
    "        fig.set_size_inches((4*(num_examples+1), 4*num_rows))\n",
    "\n",
    "        for row, (generator, cocycles) in enumerate(self.cochain_complex.cochain_groups[1].cohomology_groups.items()):\n",
    "            print(generator)\n",
    "            zero_class = generator == self.cochain_complex.cochain_groups[1].zero\n",
    "            homologous = self.cochain_complex.cochain_groups[1].retrieve_homologous_cocycles(generator)\n",
    "            self.draw_cochain(generator, axs[row, 0])\n",
    "            if len(homologous) < num_examples:\n",
    "                to_plot = list(range(len(homologous)))\n",
    "            else:\n",
    "                to_plot = set(np.random.choice(list(range(len(homologous))), size=num_examples, replace=False))\n",
    "            plotted = 0\n",
    "            for i, cocycle in enumerate(homologous):\n",
    "                if i in to_plot:\n",
    "                    print(\"  \", cocycle)\n",
    "                    self.draw_cochain(cocycle, axs[row, plotted+1])\n",
    "                    plotted += 1\n",
    "        plt.show()\n",
    "            \n",
    "\n",
    "    def draw_cochain(self, cochain, ax, vertex_colors=None):\n",
    "        cmap = ListedColormap([\"0.9\", \"b\", \"r\"])\n",
    "        edge_colors = []\n",
    "        for edge in self.graph.edges:\n",
    "            try:\n",
    "                value = cochain.simplex_map[edge].value\n",
    "            except KeyError:\n",
    "                value = 0\n",
    "            edge_colors.append(value)\n",
    "        nx.draw(self.graph, pos=self.vertex_pos, with_labels=True, edge_color=edge_colors, edge_cmap=cmap, ax=ax)\n"
   ]
  },
  {
   "cell_type": "code",
   "execution_count": 50,
   "id": "1284708c",
   "metadata": {
    "scrolled": false
   },
   "outputs": [
    {
     "name": "stderr",
     "output_type": "stream",
     "text": [
      "81it [00:00, 57320.50it/s]\n",
      "243it [00:00, 63101.53it/s]\n",
      "3it [00:00, 36157.79it/s]\n"
     ]
    },
    {
     "name": "stdout",
     "output_type": "stream",
     "text": [
      "1: 0,0,0,0,0\n",
      "   1: 0,2,2,0,1\n",
      "   1: 0,1,1,2,1\n",
      "   1: 1,0,2,0,1\n",
      "1: 0,0,0,1,0\n",
      "   1: 0,0,0,2,1\n",
      "   1: 0,1,1,0,1\n",
      "   1: 0,0,0,0,2\n"
     ]
    },
    {
     "data": {
      "image/png": "[encoded data removed]",
      "text/plain": [
       "<Figure size 1152x576 with 8 Axes>"
      ]
     },
     "metadata": {},
     "output_type": "display_data"
    }
   ],
   "source": [
    "square_points = np.array([\n",
    "    [0, 0],\n",
    "    [0, 4],\n",
    "    [4, 0],\n",
    "    [4, 4]\n",
    "])\n",
    "\n",
    "square_edges = [\n",
    "    (0, 1),\n",
    "    (0, 2),\n",
    "    (1, 2),\n",
    "    (1, 3),\n",
    "    (2, 3)\n",
    "]\n",
    "\n",
    "simplices = [\n",
    "    (0, 1, 2)\n",
    "]\n",
    "cplx = SimplicialComplex([faces(square_edges), square_edges, simplices], square_points, CyclicGroup(3))\n",
    "cplx.draw_cohomology_generators()"
   ]
  },
  {
   "cell_type": "code",
   "execution_count": 51,
   "id": "ef79d4db",
   "metadata": {},
   "outputs": [
    {
     "data": {
      "text/plain": [
       "1: 1,1,0,2,2"
      ]
     },
     "execution_count": 51,
     "metadata": {},
     "output_type": "execute_result"
    }
   ],
   "source": [
    "next(iter(cplx.cochain_complex.cochain_groups[0].cochains)).coboundary()"
   ]
  },
  {
   "cell_type": "code",
   "execution_count": 52,
   "id": "1d1ed394",
   "metadata": {
    "scrolled": false
   },
   "outputs": [
    {
     "name": "stderr",
     "output_type": "stream",
     "text": [
      "256it [00:00, 34688.31it/s]\n",
      "65536it [00:01, 61075.18it/s]\n",
      "256it [00:00, 123917.12it/s]\n"
     ]
    },
    {
     "name": "stdout",
     "output_type": "stream",
     "text": [
      "1: 0,0,0,0,0,0,0,0,0,0,0,0,0,0,0,0\n",
      "   1: 1,0,1,0,0,0,1,1,0,0,1,0,1,1,1,0\n",
      "   1: 0,0,0,0,1,1,1,1,1,0,0,1,1,0,0,1\n",
      "   1: 1,0,1,0,0,1,0,1,0,0,1,1,1,0,0,1\n",
      "1: 0,0,1,0,0,1,0,0,0,0,0,0,1,0,0,0\n",
      "   1: 0,0,0,1,1,1,0,1,0,1,1,1,0,1,0,1\n",
      "   1: 0,1,1,1,1,0,1,1,0,1,1,0,1,1,0,1\n",
      "   1: 0,1,0,0,1,1,0,1,1,0,0,0,1,0,0,1\n"
     ]
    },
    {
     "data": {
      "image/png": "[encoded data removed]",
      "text/plain": [
       "<Figure size 1152x576 with 8 Axes>"
      ]
     },
     "metadata": {},
     "output_type": "display_data"
    }
   ],
   "source": [
    "annulus_points = np.array([\n",
    "    [0, 0],\n",
    "    [0, 4],\n",
    "    [4, 0],\n",
    "    [4, 4],\n",
    "    [1, 1],\n",
    "    [1, 3],\n",
    "    [3, 1],\n",
    "    [3, 3]\n",
    "])\n",
    "\n",
    "annulus_edges = [\n",
    "    (0, 1),\n",
    "    (1, 3),\n",
    "    (0, 2),\n",
    "    (2, 3),\n",
    "    (4, 5),\n",
    "    (4, 6),\n",
    "    (5, 7),\n",
    "    (6, 7),\n",
    "    (0, 4),\n",
    "    (0, 5),\n",
    "    (1, 5),\n",
    "    (1, 7),\n",
    "    (2, 4),\n",
    "    (2, 6),\n",
    "    (3, 6),\n",
    "    (3, 7)\n",
    "]\n",
    "\n",
    "simplices = [\n",
    "    (0, 4, 5),\n",
    "    (0, 2, 4),\n",
    "    (2, 4, 6),\n",
    "    (2, 3, 6),\n",
    "    (0, 1, 5),\n",
    "    (1, 5, 7),\n",
    "    (1, 3, 7),\n",
    "    (3, 6, 7)\n",
    "\n",
    "]\n",
    "cplx = SimplicialComplex([faces(annulus_edges), annulus_edges, simplices], annulus_points, CyclicGroup(2))\n",
    "cplx.draw_cohomology_generators()"
   ]
  },
  {
   "cell_type": "code",
   "execution_count": 57,
   "id": "8b69e04b",
   "metadata": {
    "scrolled": false
   },
   "outputs": [
    {
     "name": "stderr",
     "output_type": "stream",
     "text": [
      "729it [00:00, 48253.00it/s]\n",
      "2187it [00:00, 133663.76it/s]\n"
     ]
    },
    {
     "name": "stdout",
     "output_type": "stream",
     "text": [
      "1: 0,0,0,0,0,0,0\n",
      "   1: 2,1,1,2,1,1,1\n",
      "   1: 2,1,0,0,1,1,1\n",
      "   1: 0,0,2,1,1,1,0\n",
      "1: 1,0,0,0,0,0,0\n",
      "   1: 1,1,2,0,0,1,2\n",
      "   1: 0,0,0,0,1,2,1\n",
      "   1: 1,1,2,2,1,1,1\n",
      "1: 0,0,0,0,1,0,0\n",
      "   1: 1,2,2,1,2,1,2\n",
      "   1: 0,1,1,0,2,1,1\n",
      "   1: 0,1,0,1,2,1,1\n"
     ]
    },
    {
     "data": {
      "image/png": "[encoded data removed]",
      "text/plain": [
       "<Figure size 1152x864 with 12 Axes>"
      ]
     },
     "metadata": {},
     "output_type": "display_data"
    }
   ],
   "source": [
    "double_annulus_points = np.array([\n",
    "    [0, 0],\n",
    "    [0, 1],\n",
    "    [0, 2],\n",
    "    [1, 0],\n",
    "    [1, 1],\n",
    "    [1, 2]\n",
    "])\n",
    "\n",
    "double_annulus_edges = [\n",
    "    (0, 1),\n",
    "    (1, 2),\n",
    "    (0, 3),\n",
    "    (3, 4),\n",
    "    (4, 5),\n",
    "    (2, 5),\n",
    "    (1, 4)\n",
    "]\n",
    "\n",
    "cplx = SimplicialComplex([faces(double_annulus_edges), double_annulus_edges], double_annulus_points, CyclicGroup(3))\n",
    "cplx.draw_cohomology_generators()"
   ]
  },
  {
   "cell_type": "code",
   "execution_count": 15,
   "id": "86f4c41d",
   "metadata": {},
   "outputs": [],
   "source": [
    "gens = list(cplx.cochain_complex.cochain_groups[1].cohomology_groups.keys())[1:]"
   ]
  },
  {
   "cell_type": "code",
   "execution_count": 20,
   "id": "295555c4",
   "metadata": {},
   "outputs": [
    {
     "data": {
      "text/plain": [
       "[1: 0,0,0,0,0,0,1, 1: 0,0,0,1,0,0,0, 1: 0,1,0,0,0,0,0]"
      ]
     },
     "execution_count": 20,
     "metadata": {},
     "output_type": "execute_result"
    }
   ],
   "source": [
    "gens"
   ]
  },
  {
   "cell_type": "code",
   "execution_count": 22,
   "id": "4e9e754e",
   "metadata": {},
   "outputs": [
    {
     "data": {
      "text/plain": [
       "{1: 0,0,0,0,0,0,0: {1: 0,0,0,0,0,0,0},\n",
       " 1: 0,0,0,0,0,0,1: {1: 0,0,0,0,0,0,1},\n",
       " 1: 0,0,0,1,0,0,0: {1: 0,0,0,1,0,0,0, 1: 0,0,1,0,0,0,0, 1: 1,0,0,0,0,0,0},\n",
       " 1: 0,1,0,0,0,0,0: {1: 0,0,0,0,0,1,0, 1: 0,0,0,0,1,0,0, 1: 0,1,0,0,0,0,0}}"
      ]
     },
     "execution_count": 22,
     "metadata": {},
     "output_type": "execute_result"
    }
   ],
   "source": [
    "cplx.cochain_complex.cochain_groups[1].cohomology_groups"
   ]
  },
  {
   "cell_type": "code",
   "execution_count": null,
   "id": "2c5c50a2",
   "metadata": {},
   "outputs": [],
   "source": [
    "simplices = [\n",
    "    (0, 4, 5),\n",
    "    (0, 1, 5),\n",
    "    (1, 7, 9),\n",
    "    (1, 5, 9),\n",
    "    (1, 3, 7),\n",
    "    (3, 6, 7),\n",
    "    (2, 3, 6),\n",
    "    (2, 6, 8),\n",
    "    (2, 4, 8),\n",
    "    (0, 2, 4)\n",
    "]"
   ]
  },
  {
   "cell_type": "code",
   "execution_count": 505,
   "id": "af656af5",
   "metadata": {},
   "outputs": [
    {
     "data": {
      "text/plain": [
       "[[(0,), (1,), (2,), (3,)], [(0, 1), (1, 2), (1, 3), (2, 3)], [(0, 1, 2)]]"
      ]
     },
     "execution_count": 505,
     "metadata": {},
     "output_type": "execute_result"
    }
   ],
   "source": [
    "simplicial_complex = [\n",
    "    faces(hole_edges),\n",
    "    hole_edges,\n",
    "    simplices\n",
    "]\n",
    "simplicial_complex"
   ]
  },
  {
   "cell_type": "code",
   "execution_count": null,
   "id": "947fcb58",
   "metadata": {},
   "outputs": [],
   "source": []
  },
  {
   "cell_type": "code",
   "execution_count": 506,
   "id": "8d500e79",
   "metadata": {},
   "outputs": [
    {
     "name": "stderr",
     "output_type": "stream",
     "text": [
      "81it [00:00, 33184.08it/s]\n",
      "81it [00:00, 54805.39it/s]\n",
      "3it [00:00, 28339.89it/s]"
     ]
    },
    {
     "name": "stdout",
     "output_type": "stream",
     "text": [
      "0,0,0,0|0,0,0,0|0|\n",
      "1,1,1,1|0,0,0,0|0|\n",
      "2,2,2,2|0,0,0,0|0|\n",
      "0,0,0,0|0,0,0,0|0|\n",
      "0,0,0,0|0,0,1,0|0|\n",
      "0,0,0,0|0,0,2,0|0|\n",
      "0,0,0,0|0,0,0,1|0|\n",
      "0,0,0,0|0,0,0,2|0|\n",
      "0,0,0,0|0,0,2,1|0|\n",
      "0,0,0,0|0,0,2,2|0|\n",
      "0,0,0,0|1,2,0,0|0|\n",
      "0,0,0,0|2,1,0,0|0|\n",
      "0,0,0,0|1,2,2,0|0|\n",
      "0,0,0,0|0,0,0,0|0|\n",
      "0,0,0,0|0,0,0,0|1|\n"
     ]
    },
    {
     "name": "stderr",
     "output_type": "stream",
     "text": [
      "\n"
     ]
    },
    {
     "data": {
      "text/plain": [
       "<__main__.CochainComplex at 0x7ffcc04212b0>"
      ]
     },
     "execution_count": 506,
     "metadata": {},
     "output_type": "execute_result"
    }
   ],
   "source": [
    "cplx = CochainComplex(simplicial_complex, CyclicGroup(3))\n",
    "cplx"
   ]
  },
  {
   "cell_type": "code",
   "execution_count": 49,
   "id": "cfe9a489",
   "metadata": {},
   "outputs": [],
   "source": [
    "annulus_points = np.array([\n",
    "    [0, 0],\n",
    "    [0, 4],\n",
    "    [4, 0],\n",
    "    [4, 4],\n",
    "    [1, 1],\n",
    "    [1, 3],\n",
    "    [3, 1],\n",
    "    [3, 3]\n",
    "])\n",
    "\n",
    "annulus_edges = [\n",
    "    (0, 1),\n",
    "    (1, 3),\n",
    "    (0, 2),\n",
    "    (2, 3),\n",
    "    (4, 5),\n",
    "    (4, 6),\n",
    "    (5, 7),\n",
    "    (6, 7),\n",
    "    (0, 4),\n",
    "    (0, 5),\n",
    "    (1, 5),\n",
    "    (1, 7),\n",
    "    (2, 4),\n",
    "    (2, 6),\n",
    "    (3, 6),\n",
    "    (3, 7)\n",
    "]\n",
    "\n",
    "simplices = [\n",
    "    (0, 4, 5),\n",
    "    (0, 2, 4),\n",
    "    (2, 4, 6),\n",
    "    (2, 3, 6),\n",
    "    (0, 1, 5),\n",
    "    (1, 5, 7),\n",
    "    (1, 3, 7),\n",
    "    (3, 6, 7)\n",
    "\n",
    "]"
   ]
  },
  {
   "cell_type": "code",
   "execution_count": 146,
   "id": "86f66f63",
   "metadata": {},
   "outputs": [],
   "source": [
    "annulus = nx.Graph(annulus_edges)\n",
    "annulus = build_1_skeleton_from_simplices(simplices)"
   ]
  },
  {
   "cell_type": "code",
   "execution_count": 147,
   "id": "19d06e3c",
   "metadata": {},
   "outputs": [
    {
     "data": {
      "image/png": "[encoded data removed]",
      "text/plain": [
       "<Figure size 432x288 with 1 Axes>"
      ]
     },
     "metadata": {},
     "output_type": "display_data"
    }
   ],
   "source": [
    "nx.draw(annulus, pos=annulus_points, with_labels=True)"
   ]
  },
  {
   "cell_type": "code",
   "execution_count": 82,
   "id": "04bdbbce",
   "metadata": {},
   "outputs": [
    {
     "data": {
      "image/png": "[encoded data removed]",
      "text/plain": [
       "<Figure size 432x288 with 1 Axes>"
      ]
     },
     "metadata": {},
     "output_type": "display_data"
    }
   ],
   "source": [
    "nx.draw(cplx.graph, cplx.vertex_pos, with_labels=True)"
   ]
  },
  {
   "cell_type": "code",
   "execution_count": null,
   "id": "e3ea4a04",
   "metadata": {},
   "outputs": [],
   "source": [
    "simplices = [\n",
    "    (0, 4, 5),\n",
    "    (0, 1, 5),\n",
    "    (1, 7, 9),\n",
    "    (1, 5, 9),\n",
    "    (1, 3, 7),\n",
    "    (3, 6, 7),\n",
    "    (2, 3, 6),\n",
    "    (2, 6, 8),\n",
    "    (2, 4, 8),\n",
    "    (0, 2, 4)\n",
    "]"
   ]
  },
  {
   "cell_type": "code",
   "execution_count": null,
   "id": "feee05ba",
   "metadata": {},
   "outputs": [],
   "source": [
    "class Complex:\n",
    "    \n",
    "    def __init__(self, simplices, vertex_pos):\n",
    "        self.G = build_1_skeleton_from_simplices(simplices)\n",
    "        self.vertices = vertex_pos\n",
    "        self.simplices = simplices\n",
    "        \n",
    "    def "
   ]
  }
 ],
 "metadata": {
  "kernelspec": {
   "display_name": "Python 3",
   "language": "python",
   "name": "python3"
  },
  "language_info": {
   "codemirror_mode": {
    "name": "ipython",
    "version": 3
   },
   "file_extension": ".py",
   "mimetype": "text/x-python",
   "name": "python",
   "nbconvert_exporter": "python",
   "pygments_lexer": "ipython3",
   "version": "3.8.8"
  }
 },
 "nbformat": 4,
 "nbformat_minor": 5
}
